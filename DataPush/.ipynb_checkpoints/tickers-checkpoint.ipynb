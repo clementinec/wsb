{
 "cells": [
  {
   "cell_type": "code",
   "execution_count": 1,
   "id": "driven-driver",
   "metadata": {},
   "outputs": [],
   "source": [
    "import pandas as pd"
   ]
  },
  {
   "cell_type": "code",
   "execution_count": 2,
   "id": "worldwide-relief",
   "metadata": {},
   "outputs": [],
   "source": [
    "tick = pd.read_csv('nasdaq_screener_1614621068265.csv')"
   ]
  },
  {
   "cell_type": "code",
   "execution_count": 6,
   "id": "endangered-reliance",
   "metadata": {},
   "outputs": [],
   "source": [
    "ticks = tick.Symbol.unique()"
   ]
  },
  {
   "cell_type": "code",
   "execution_count": 7,
   "id": "protective-sponsorship",
   "metadata": {},
   "outputs": [
    {
     "data": {
      "text/plain": [
       "array(['A', 'AA', 'AACG', ..., 'ZYME', 'ZYNE', 'ZYXI'], dtype=object)"
      ]
     },
     "execution_count": 7,
     "metadata": {},
     "output_type": "execute_result"
    }
   ],
   "source": [
    "ticks"
   ]
  },
  {
   "cell_type": "code",
   "execution_count": 8,
   "id": "fundamental-privacy",
   "metadata": {},
   "outputs": [],
   "source": [
    "top500 = pd.read_csv('wsb_n.csv',compression='bz2')"
   ]
  },
  {
   "cell_type": "code",
   "execution_count": 11,
   "id": "gorgeous-slovak",
   "metadata": {},
   "outputs": [],
   "source": [
    "X = top500.iloc[0]['allcomments']"
   ]
  },
  {
   "cell_type": "markdown",
   "id": "logical-compensation",
   "metadata": {},
   "source": [
    "#Count occurences\n",
    "s.str.match(...).str.get(0).count().\n",
    "s.str.match(...).str.get(0).groupby(lambda x: x).count()"
   ]
  }
 ],
 "metadata": {
  "kernelspec": {
   "display_name": "Python 3",
   "language": "python",
   "name": "python3"
  },
  "language_info": {
   "codemirror_mode": {
    "name": "ipython",
    "version": 3
   },
   "file_extension": ".py",
   "mimetype": "text/x-python",
   "name": "python",
   "nbconvert_exporter": "python",
   "pygments_lexer": "ipython3",
   "version": "3.8.3"
  }
 },
 "nbformat": 4,
 "nbformat_minor": 5
}
